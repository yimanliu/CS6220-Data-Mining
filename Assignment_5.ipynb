{
 "cells": [
  {
   "cell_type": "markdown",
   "metadata": {},
   "source": [
    "## 1.1 Answer the following questions"
   ]
  },
  {
   "cell_type": "code",
   "execution_count": 3,
   "metadata": {},
   "outputs": [],
   "source": [
    "#Load data\n",
    "import pandas as pd\n",
    "Beijing = pd.read_csv(\"./data/assignment5/Beijing.csv\") \n",
    "Chengdu = pd.read_csv(\"./data/assignment5/Chengdu.csv\") \n",
    "Guangzhou = pd.read_csv(\"./data/assignment5/Guangzhou.csv\") \n",
    "Shanghai = pd.read_csv(\"./data/assignment5/Shanghai.csv\") \n",
    "Shenyang = pd.read_csv(\"./data/assignment5/Shenyang.csv\") "
   ]
  },
  {
   "cell_type": "markdown",
   "metadata": {},
   "source": [
    "Check each dataset:"
   ]
  },
  {
   "cell_type": "code",
   "execution_count": 4,
   "metadata": {},
   "outputs": [
    {
     "data": {
      "text/html": [
       "<div>\n",
       "<style scoped>\n",
       "    .dataframe tbody tr th:only-of-type {\n",
       "        vertical-align: middle;\n",
       "    }\n",
       "\n",
       "    .dataframe tbody tr th {\n",
       "        vertical-align: top;\n",
       "    }\n",
       "\n",
       "    .dataframe thead th {\n",
       "        text-align: right;\n",
       "    }\n",
       "</style>\n",
       "<table border=\"1\" class=\"dataframe\">\n",
       "  <thead>\n",
       "    <tr style=\"text-align: right;\">\n",
       "      <th></th>\n",
       "      <th>year</th>\n",
       "      <th>month</th>\n",
       "      <th>day</th>\n",
       "      <th>hour</th>\n",
       "      <th>season</th>\n",
       "      <th>PM</th>\n",
       "      <th>DEWP</th>\n",
       "      <th>HUMI</th>\n",
       "      <th>PRES</th>\n",
       "      <th>TEMP</th>\n",
       "      <th>Iws</th>\n",
       "      <th>precipitation</th>\n",
       "      <th>Iprec</th>\n",
       "    </tr>\n",
       "  </thead>\n",
       "  <tbody>\n",
       "    <tr>\n",
       "      <th>52579</th>\n",
       "      <td>2015</td>\n",
       "      <td>12</td>\n",
       "      <td>31</td>\n",
       "      <td>19</td>\n",
       "      <td>4</td>\n",
       "      <td>133.0</td>\n",
       "      <td>-8.0</td>\n",
       "      <td>68.0</td>\n",
       "      <td>1031.0</td>\n",
       "      <td>-3.0</td>\n",
       "      <td>7.14</td>\n",
       "      <td>0.0</td>\n",
       "      <td>0.0</td>\n",
       "    </tr>\n",
       "    <tr>\n",
       "      <th>52580</th>\n",
       "      <td>2015</td>\n",
       "      <td>12</td>\n",
       "      <td>31</td>\n",
       "      <td>20</td>\n",
       "      <td>4</td>\n",
       "      <td>169.0</td>\n",
       "      <td>-8.0</td>\n",
       "      <td>63.0</td>\n",
       "      <td>1030.0</td>\n",
       "      <td>-2.0</td>\n",
       "      <td>8.03</td>\n",
       "      <td>0.0</td>\n",
       "      <td>0.0</td>\n",
       "    </tr>\n",
       "    <tr>\n",
       "      <th>52581</th>\n",
       "      <td>2015</td>\n",
       "      <td>12</td>\n",
       "      <td>31</td>\n",
       "      <td>21</td>\n",
       "      <td>4</td>\n",
       "      <td>203.0</td>\n",
       "      <td>-10.0</td>\n",
       "      <td>73.0</td>\n",
       "      <td>1030.0</td>\n",
       "      <td>-6.0</td>\n",
       "      <td>0.89</td>\n",
       "      <td>0.0</td>\n",
       "      <td>0.0</td>\n",
       "    </tr>\n",
       "    <tr>\n",
       "      <th>52582</th>\n",
       "      <td>2015</td>\n",
       "      <td>12</td>\n",
       "      <td>31</td>\n",
       "      <td>22</td>\n",
       "      <td>4</td>\n",
       "      <td>212.0</td>\n",
       "      <td>-10.0</td>\n",
       "      <td>73.0</td>\n",
       "      <td>1030.0</td>\n",
       "      <td>-6.0</td>\n",
       "      <td>1.78</td>\n",
       "      <td>0.0</td>\n",
       "      <td>0.0</td>\n",
       "    </tr>\n",
       "    <tr>\n",
       "      <th>52583</th>\n",
       "      <td>2015</td>\n",
       "      <td>12</td>\n",
       "      <td>31</td>\n",
       "      <td>23</td>\n",
       "      <td>4</td>\n",
       "      <td>235.0</td>\n",
       "      <td>-9.0</td>\n",
       "      <td>79.0</td>\n",
       "      <td>1029.0</td>\n",
       "      <td>-6.0</td>\n",
       "      <td>2.67</td>\n",
       "      <td>0.0</td>\n",
       "      <td>0.0</td>\n",
       "    </tr>\n",
       "  </tbody>\n",
       "</table>\n",
       "</div>"
      ],
      "text/plain": [
       "       year  month  day  hour  season     PM  DEWP  HUMI    PRES  TEMP   Iws  \\\n",
       "52579  2015     12   31    19       4  133.0  -8.0  68.0  1031.0  -3.0  7.14   \n",
       "52580  2015     12   31    20       4  169.0  -8.0  63.0  1030.0  -2.0  8.03   \n",
       "52581  2015     12   31    21       4  203.0 -10.0  73.0  1030.0  -6.0  0.89   \n",
       "52582  2015     12   31    22       4  212.0 -10.0  73.0  1030.0  -6.0  1.78   \n",
       "52583  2015     12   31    23       4  235.0  -9.0  79.0  1029.0  -6.0  2.67   \n",
       "\n",
       "       precipitation  Iprec  \n",
       "52579            0.0    0.0  \n",
       "52580            0.0    0.0  \n",
       "52581            0.0    0.0  \n",
       "52582            0.0    0.0  \n",
       "52583            0.0    0.0  "
      ]
     },
     "execution_count": 4,
     "metadata": {},
     "output_type": "execute_result"
    }
   ],
   "source": [
    "Beijing.tail()"
   ]
  },
  {
   "cell_type": "code",
   "execution_count": 5,
   "metadata": {},
   "outputs": [
    {
     "data": {
      "text/html": [
       "<div>\n",
       "<style scoped>\n",
       "    .dataframe tbody tr th:only-of-type {\n",
       "        vertical-align: middle;\n",
       "    }\n",
       "\n",
       "    .dataframe tbody tr th {\n",
       "        vertical-align: top;\n",
       "    }\n",
       "\n",
       "    .dataframe thead th {\n",
       "        text-align: right;\n",
       "    }\n",
       "</style>\n",
       "<table border=\"1\" class=\"dataframe\">\n",
       "  <thead>\n",
       "    <tr style=\"text-align: right;\">\n",
       "      <th></th>\n",
       "      <th>year</th>\n",
       "      <th>month</th>\n",
       "      <th>day</th>\n",
       "      <th>hour</th>\n",
       "      <th>season</th>\n",
       "      <th>PM</th>\n",
       "      <th>DEWP</th>\n",
       "      <th>HUMI</th>\n",
       "      <th>PRES</th>\n",
       "      <th>TEMP</th>\n",
       "      <th>Iws</th>\n",
       "      <th>precipitation</th>\n",
       "      <th>Iprec</th>\n",
       "    </tr>\n",
       "  </thead>\n",
       "  <tbody>\n",
       "    <tr>\n",
       "      <th>0</th>\n",
       "      <td>2010</td>\n",
       "      <td>1</td>\n",
       "      <td>1</td>\n",
       "      <td>0</td>\n",
       "      <td>4</td>\n",
       "      <td>NaN</td>\n",
       "      <td>4.0</td>\n",
       "      <td>81.20</td>\n",
       "      <td>1022.0</td>\n",
       "      <td>7.0</td>\n",
       "      <td>1.0</td>\n",
       "      <td>0.0</td>\n",
       "      <td>0.0</td>\n",
       "    </tr>\n",
       "    <tr>\n",
       "      <th>1</th>\n",
       "      <td>2010</td>\n",
       "      <td>1</td>\n",
       "      <td>1</td>\n",
       "      <td>1</td>\n",
       "      <td>4</td>\n",
       "      <td>NaN</td>\n",
       "      <td>4.0</td>\n",
       "      <td>86.99</td>\n",
       "      <td>1022.0</td>\n",
       "      <td>6.0</td>\n",
       "      <td>1.0</td>\n",
       "      <td>0.0</td>\n",
       "      <td>0.0</td>\n",
       "    </tr>\n",
       "    <tr>\n",
       "      <th>2</th>\n",
       "      <td>2010</td>\n",
       "      <td>1</td>\n",
       "      <td>1</td>\n",
       "      <td>2</td>\n",
       "      <td>4</td>\n",
       "      <td>NaN</td>\n",
       "      <td>4.0</td>\n",
       "      <td>86.99</td>\n",
       "      <td>1021.0</td>\n",
       "      <td>6.0</td>\n",
       "      <td>1.0</td>\n",
       "      <td>0.0</td>\n",
       "      <td>0.0</td>\n",
       "    </tr>\n",
       "    <tr>\n",
       "      <th>3</th>\n",
       "      <td>2010</td>\n",
       "      <td>1</td>\n",
       "      <td>1</td>\n",
       "      <td>3</td>\n",
       "      <td>4</td>\n",
       "      <td>NaN</td>\n",
       "      <td>3.0</td>\n",
       "      <td>86.89</td>\n",
       "      <td>1021.0</td>\n",
       "      <td>5.0</td>\n",
       "      <td>1.0</td>\n",
       "      <td>0.0</td>\n",
       "      <td>0.0</td>\n",
       "    </tr>\n",
       "    <tr>\n",
       "      <th>4</th>\n",
       "      <td>2010</td>\n",
       "      <td>1</td>\n",
       "      <td>1</td>\n",
       "      <td>4</td>\n",
       "      <td>4</td>\n",
       "      <td>NaN</td>\n",
       "      <td>2.0</td>\n",
       "      <td>86.79</td>\n",
       "      <td>1021.0</td>\n",
       "      <td>4.0</td>\n",
       "      <td>1.0</td>\n",
       "      <td>0.0</td>\n",
       "      <td>0.0</td>\n",
       "    </tr>\n",
       "  </tbody>\n",
       "</table>\n",
       "</div>"
      ],
      "text/plain": [
       "   year  month  day  hour  season  PM  DEWP   HUMI    PRES  TEMP  Iws  \\\n",
       "0  2010      1    1     0       4 NaN   4.0  81.20  1022.0   7.0  1.0   \n",
       "1  2010      1    1     1       4 NaN   4.0  86.99  1022.0   6.0  1.0   \n",
       "2  2010      1    1     2       4 NaN   4.0  86.99  1021.0   6.0  1.0   \n",
       "3  2010      1    1     3       4 NaN   3.0  86.89  1021.0   5.0  1.0   \n",
       "4  2010      1    1     4       4 NaN   2.0  86.79  1021.0   4.0  1.0   \n",
       "\n",
       "   precipitation  Iprec  \n",
       "0            0.0    0.0  \n",
       "1            0.0    0.0  \n",
       "2            0.0    0.0  \n",
       "3            0.0    0.0  \n",
       "4            0.0    0.0  "
      ]
     },
     "execution_count": 5,
     "metadata": {},
     "output_type": "execute_result"
    }
   ],
   "source": [
    "Chengdu.head()"
   ]
  },
  {
   "cell_type": "code",
   "execution_count": 6,
   "metadata": {},
   "outputs": [
    {
     "data": {
      "text/html": [
       "<div>\n",
       "<style scoped>\n",
       "    .dataframe tbody tr th:only-of-type {\n",
       "        vertical-align: middle;\n",
       "    }\n",
       "\n",
       "    .dataframe tbody tr th {\n",
       "        vertical-align: top;\n",
       "    }\n",
       "\n",
       "    .dataframe thead th {\n",
       "        text-align: right;\n",
       "    }\n",
       "</style>\n",
       "<table border=\"1\" class=\"dataframe\">\n",
       "  <thead>\n",
       "    <tr style=\"text-align: right;\">\n",
       "      <th></th>\n",
       "      <th>year</th>\n",
       "      <th>month</th>\n",
       "      <th>day</th>\n",
       "      <th>hour</th>\n",
       "      <th>season</th>\n",
       "      <th>PM</th>\n",
       "      <th>DEWP</th>\n",
       "      <th>HUMI</th>\n",
       "      <th>PRES</th>\n",
       "      <th>TEMP</th>\n",
       "      <th>Iws</th>\n",
       "      <th>precipitation</th>\n",
       "      <th>Iprec</th>\n",
       "    </tr>\n",
       "  </thead>\n",
       "  <tbody>\n",
       "    <tr>\n",
       "      <th>0</th>\n",
       "      <td>2010</td>\n",
       "      <td>1</td>\n",
       "      <td>1</td>\n",
       "      <td>0</td>\n",
       "      <td>4.0</td>\n",
       "      <td>NaN</td>\n",
       "      <td>9.4</td>\n",
       "      <td>76.0</td>\n",
       "      <td>1015.1</td>\n",
       "      <td>13.5</td>\n",
       "      <td>0.8</td>\n",
       "      <td>0.0</td>\n",
       "      <td>0.0</td>\n",
       "    </tr>\n",
       "    <tr>\n",
       "      <th>1</th>\n",
       "      <td>2010</td>\n",
       "      <td>1</td>\n",
       "      <td>1</td>\n",
       "      <td>1</td>\n",
       "      <td>4.0</td>\n",
       "      <td>NaN</td>\n",
       "      <td>10.2</td>\n",
       "      <td>83.0</td>\n",
       "      <td>1015.2</td>\n",
       "      <td>13.0</td>\n",
       "      <td>0.5</td>\n",
       "      <td>0.0</td>\n",
       "      <td>0.0</td>\n",
       "    </tr>\n",
       "    <tr>\n",
       "      <th>2</th>\n",
       "      <td>2010</td>\n",
       "      <td>1</td>\n",
       "      <td>1</td>\n",
       "      <td>2</td>\n",
       "      <td>4.0</td>\n",
       "      <td>NaN</td>\n",
       "      <td>10.4</td>\n",
       "      <td>87.0</td>\n",
       "      <td>1015.0</td>\n",
       "      <td>12.5</td>\n",
       "      <td>0.6</td>\n",
       "      <td>0.3</td>\n",
       "      <td>0.3</td>\n",
       "    </tr>\n",
       "    <tr>\n",
       "      <th>3</th>\n",
       "      <td>2010</td>\n",
       "      <td>1</td>\n",
       "      <td>1</td>\n",
       "      <td>3</td>\n",
       "      <td>4.0</td>\n",
       "      <td>NaN</td>\n",
       "      <td>10.2</td>\n",
       "      <td>89.0</td>\n",
       "      <td>1014.9</td>\n",
       "      <td>12.0</td>\n",
       "      <td>1.4</td>\n",
       "      <td>0.6</td>\n",
       "      <td>0.9</td>\n",
       "    </tr>\n",
       "    <tr>\n",
       "      <th>4</th>\n",
       "      <td>2010</td>\n",
       "      <td>1</td>\n",
       "      <td>1</td>\n",
       "      <td>4</td>\n",
       "      <td>4.0</td>\n",
       "      <td>NaN</td>\n",
       "      <td>10.4</td>\n",
       "      <td>91.0</td>\n",
       "      <td>1014.6</td>\n",
       "      <td>11.8</td>\n",
       "      <td>0.6</td>\n",
       "      <td>0.7</td>\n",
       "      <td>1.6</td>\n",
       "    </tr>\n",
       "  </tbody>\n",
       "</table>\n",
       "</div>"
      ],
      "text/plain": [
       "   year  month  day  hour  season  PM  DEWP  HUMI    PRES  TEMP  Iws  \\\n",
       "0  2010      1    1     0     4.0 NaN   9.4  76.0  1015.1  13.5  0.8   \n",
       "1  2010      1    1     1     4.0 NaN  10.2  83.0  1015.2  13.0  0.5   \n",
       "2  2010      1    1     2     4.0 NaN  10.4  87.0  1015.0  12.5  0.6   \n",
       "3  2010      1    1     3     4.0 NaN  10.2  89.0  1014.9  12.0  1.4   \n",
       "4  2010      1    1     4     4.0 NaN  10.4  91.0  1014.6  11.8  0.6   \n",
       "\n",
       "   precipitation  Iprec  \n",
       "0            0.0    0.0  \n",
       "1            0.0    0.0  \n",
       "2            0.3    0.3  \n",
       "3            0.6    0.9  \n",
       "4            0.7    1.6  "
      ]
     },
     "execution_count": 6,
     "metadata": {},
     "output_type": "execute_result"
    }
   ],
   "source": [
    "Guangzhou.head()"
   ]
  },
  {
   "cell_type": "code",
   "execution_count": 7,
   "metadata": {},
   "outputs": [
    {
     "data": {
      "text/html": [
       "<div>\n",
       "<style scoped>\n",
       "    .dataframe tbody tr th:only-of-type {\n",
       "        vertical-align: middle;\n",
       "    }\n",
       "\n",
       "    .dataframe tbody tr th {\n",
       "        vertical-align: top;\n",
       "    }\n",
       "\n",
       "    .dataframe thead th {\n",
       "        text-align: right;\n",
       "    }\n",
       "</style>\n",
       "<table border=\"1\" class=\"dataframe\">\n",
       "  <thead>\n",
       "    <tr style=\"text-align: right;\">\n",
       "      <th></th>\n",
       "      <th>year</th>\n",
       "      <th>month</th>\n",
       "      <th>day</th>\n",
       "      <th>hour</th>\n",
       "      <th>season</th>\n",
       "      <th>PM</th>\n",
       "      <th>DEWP</th>\n",
       "      <th>HUMI</th>\n",
       "      <th>PRES</th>\n",
       "      <th>TEMP</th>\n",
       "      <th>Iws</th>\n",
       "      <th>precipitation</th>\n",
       "      <th>Iprec</th>\n",
       "    </tr>\n",
       "  </thead>\n",
       "  <tbody>\n",
       "    <tr>\n",
       "      <th>0</th>\n",
       "      <td>2010</td>\n",
       "      <td>1</td>\n",
       "      <td>1</td>\n",
       "      <td>0</td>\n",
       "      <td>4</td>\n",
       "      <td>NaN</td>\n",
       "      <td>-6.0</td>\n",
       "      <td>59.48</td>\n",
       "      <td>1026.1</td>\n",
       "      <td>1.0</td>\n",
       "      <td>1.0</td>\n",
       "      <td>0.0</td>\n",
       "      <td>0.0</td>\n",
       "    </tr>\n",
       "    <tr>\n",
       "      <th>1</th>\n",
       "      <td>2010</td>\n",
       "      <td>1</td>\n",
       "      <td>1</td>\n",
       "      <td>1</td>\n",
       "      <td>4</td>\n",
       "      <td>NaN</td>\n",
       "      <td>-6.0</td>\n",
       "      <td>59.48</td>\n",
       "      <td>1025.1</td>\n",
       "      <td>1.0</td>\n",
       "      <td>2.0</td>\n",
       "      <td>0.0</td>\n",
       "      <td>0.0</td>\n",
       "    </tr>\n",
       "    <tr>\n",
       "      <th>2</th>\n",
       "      <td>2010</td>\n",
       "      <td>1</td>\n",
       "      <td>1</td>\n",
       "      <td>2</td>\n",
       "      <td>4</td>\n",
       "      <td>NaN</td>\n",
       "      <td>-7.0</td>\n",
       "      <td>59.21</td>\n",
       "      <td>1025.1</td>\n",
       "      <td>0.0</td>\n",
       "      <td>4.0</td>\n",
       "      <td>0.0</td>\n",
       "      <td>0.0</td>\n",
       "    </tr>\n",
       "    <tr>\n",
       "      <th>3</th>\n",
       "      <td>2010</td>\n",
       "      <td>1</td>\n",
       "      <td>1</td>\n",
       "      <td>3</td>\n",
       "      <td>4</td>\n",
       "      <td>NaN</td>\n",
       "      <td>-6.0</td>\n",
       "      <td>63.94</td>\n",
       "      <td>1024.0</td>\n",
       "      <td>0.0</td>\n",
       "      <td>5.0</td>\n",
       "      <td>0.0</td>\n",
       "      <td>0.0</td>\n",
       "    </tr>\n",
       "    <tr>\n",
       "      <th>4</th>\n",
       "      <td>2010</td>\n",
       "      <td>1</td>\n",
       "      <td>1</td>\n",
       "      <td>4</td>\n",
       "      <td>4</td>\n",
       "      <td>NaN</td>\n",
       "      <td>-6.0</td>\n",
       "      <td>63.94</td>\n",
       "      <td>1023.0</td>\n",
       "      <td>0.0</td>\n",
       "      <td>8.0</td>\n",
       "      <td>0.0</td>\n",
       "      <td>0.0</td>\n",
       "    </tr>\n",
       "  </tbody>\n",
       "</table>\n",
       "</div>"
      ],
      "text/plain": [
       "   year  month  day  hour  season  PM  DEWP   HUMI    PRES  TEMP  Iws  \\\n",
       "0  2010      1    1     0       4 NaN  -6.0  59.48  1026.1   1.0  1.0   \n",
       "1  2010      1    1     1       4 NaN  -6.0  59.48  1025.1   1.0  2.0   \n",
       "2  2010      1    1     2       4 NaN  -7.0  59.21  1025.1   0.0  4.0   \n",
       "3  2010      1    1     3       4 NaN  -6.0  63.94  1024.0   0.0  5.0   \n",
       "4  2010      1    1     4       4 NaN  -6.0  63.94  1023.0   0.0  8.0   \n",
       "\n",
       "   precipitation  Iprec  \n",
       "0            0.0    0.0  \n",
       "1            0.0    0.0  \n",
       "2            0.0    0.0  \n",
       "3            0.0    0.0  \n",
       "4            0.0    0.0  "
      ]
     },
     "execution_count": 7,
     "metadata": {},
     "output_type": "execute_result"
    }
   ],
   "source": [
    "Shanghai.head()"
   ]
  },
  {
   "cell_type": "code",
   "execution_count": 8,
   "metadata": {},
   "outputs": [
    {
     "data": {
      "text/html": [
       "<div>\n",
       "<style scoped>\n",
       "    .dataframe tbody tr th:only-of-type {\n",
       "        vertical-align: middle;\n",
       "    }\n",
       "\n",
       "    .dataframe tbody tr th {\n",
       "        vertical-align: top;\n",
       "    }\n",
       "\n",
       "    .dataframe thead th {\n",
       "        text-align: right;\n",
       "    }\n",
       "</style>\n",
       "<table border=\"1\" class=\"dataframe\">\n",
       "  <thead>\n",
       "    <tr style=\"text-align: right;\">\n",
       "      <th></th>\n",
       "      <th>year</th>\n",
       "      <th>month</th>\n",
       "      <th>day</th>\n",
       "      <th>hour</th>\n",
       "      <th>season</th>\n",
       "      <th>PM</th>\n",
       "      <th>DEWP</th>\n",
       "      <th>HUMI</th>\n",
       "      <th>PRES</th>\n",
       "      <th>TEMP</th>\n",
       "      <th>Iws</th>\n",
       "      <th>precipitation</th>\n",
       "      <th>Iprec</th>\n",
       "    </tr>\n",
       "  </thead>\n",
       "  <tbody>\n",
       "    <tr>\n",
       "      <th>0</th>\n",
       "      <td>2010</td>\n",
       "      <td>1</td>\n",
       "      <td>1</td>\n",
       "      <td>0</td>\n",
       "      <td>4</td>\n",
       "      <td>NaN</td>\n",
       "      <td>-26.0</td>\n",
       "      <td>69.79</td>\n",
       "      <td>1024.0</td>\n",
       "      <td>-22.0</td>\n",
       "      <td>1.0289</td>\n",
       "      <td>NaN</td>\n",
       "      <td>NaN</td>\n",
       "    </tr>\n",
       "    <tr>\n",
       "      <th>1</th>\n",
       "      <td>2010</td>\n",
       "      <td>1</td>\n",
       "      <td>1</td>\n",
       "      <td>1</td>\n",
       "      <td>4</td>\n",
       "      <td>NaN</td>\n",
       "      <td>-26.0</td>\n",
       "      <td>76.26</td>\n",
       "      <td>1024.0</td>\n",
       "      <td>-23.0</td>\n",
       "      <td>2.5722</td>\n",
       "      <td>NaN</td>\n",
       "      <td>NaN</td>\n",
       "    </tr>\n",
       "    <tr>\n",
       "      <th>2</th>\n",
       "      <td>2010</td>\n",
       "      <td>1</td>\n",
       "      <td>1</td>\n",
       "      <td>2</td>\n",
       "      <td>4</td>\n",
       "      <td>NaN</td>\n",
       "      <td>-27.0</td>\n",
       "      <td>69.56</td>\n",
       "      <td>1023.0</td>\n",
       "      <td>-23.0</td>\n",
       "      <td>5.1444</td>\n",
       "      <td>NaN</td>\n",
       "      <td>NaN</td>\n",
       "    </tr>\n",
       "    <tr>\n",
       "      <th>3</th>\n",
       "      <td>2010</td>\n",
       "      <td>1</td>\n",
       "      <td>1</td>\n",
       "      <td>3</td>\n",
       "      <td>4</td>\n",
       "      <td>NaN</td>\n",
       "      <td>-27.0</td>\n",
       "      <td>69.56</td>\n",
       "      <td>1023.0</td>\n",
       "      <td>-23.0</td>\n",
       "      <td>7.7166</td>\n",
       "      <td>NaN</td>\n",
       "      <td>NaN</td>\n",
       "    </tr>\n",
       "    <tr>\n",
       "      <th>4</th>\n",
       "      <td>2010</td>\n",
       "      <td>1</td>\n",
       "      <td>1</td>\n",
       "      <td>4</td>\n",
       "      <td>4</td>\n",
       "      <td>NaN</td>\n",
       "      <td>-27.0</td>\n",
       "      <td>69.56</td>\n",
       "      <td>1022.0</td>\n",
       "      <td>-23.0</td>\n",
       "      <td>9.7744</td>\n",
       "      <td>NaN</td>\n",
       "      <td>NaN</td>\n",
       "    </tr>\n",
       "  </tbody>\n",
       "</table>\n",
       "</div>"
      ],
      "text/plain": [
       "   year  month  day  hour  season  PM  DEWP   HUMI    PRES  TEMP     Iws  \\\n",
       "0  2010      1    1     0       4 NaN -26.0  69.79  1024.0 -22.0  1.0289   \n",
       "1  2010      1    1     1       4 NaN -26.0  76.26  1024.0 -23.0  2.5722   \n",
       "2  2010      1    1     2       4 NaN -27.0  69.56  1023.0 -23.0  5.1444   \n",
       "3  2010      1    1     3       4 NaN -27.0  69.56  1023.0 -23.0  7.7166   \n",
       "4  2010      1    1     4       4 NaN -27.0  69.56  1022.0 -23.0  9.7744   \n",
       "\n",
       "   precipitation  Iprec  \n",
       "0            NaN    NaN  \n",
       "1            NaN    NaN  \n",
       "2            NaN    NaN  \n",
       "3            NaN    NaN  \n",
       "4            NaN    NaN  "
      ]
     },
     "execution_count": 8,
     "metadata": {},
     "output_type": "execute_result"
    }
   ],
   "source": [
    "Shenyang.head()"
   ]
  },
  {
   "cell_type": "markdown",
   "metadata": {},
   "source": [
    "### 1. Which of the 5 cities has the largest temperature range (i.e., highest temperature - lowest temperature) during the period the dataset was collected?"
   ]
  },
  {
   "cell_type": "code",
   "execution_count": 9,
   "metadata": {},
   "outputs": [
    {
     "data": {
      "text/plain": [
       "Beijing      61.000000\n",
       "Chengdu      41.000000\n",
       "Guangzhou    35.700002\n",
       "Shanghai     46.000000\n",
       "Shenyang     63.000000\n",
       "dtype: float64"
      ]
     },
     "execution_count": 9,
     "metadata": {},
     "output_type": "execute_result"
    }
   ],
   "source": [
    "diff1 = Beijing['TEMP'].max() - Beijing['TEMP'].min()\n",
    "diff2 = Chengdu['TEMP'].max() - Chengdu['TEMP'].min()\n",
    "diff3 = Guangzhou['TEMP'].max() - Guangzhou['TEMP'].min()\n",
    "diff4 = Shanghai['TEMP'].max() - Shanghai['TEMP'].min()\n",
    "diff5 = Shenyang['TEMP'].max() - Shenyang['TEMP'].min()\n",
    "\n",
    "d = {'Beijing': diff1, 'Chengdu': diff2, 'Guangzhou': diff3, 'Shanghai': diff4, 'Shenyang': diff5}\n",
    "ser = pd.Series(data=d)\n",
    "ser"
   ]
  },
  {
   "cell_type": "code",
   "execution_count": 10,
   "metadata": {},
   "outputs": [
    {
     "name": "stdout",
     "output_type": "stream",
     "text": [
      "Shenyang has the largest temperature range: 63.0\n"
     ]
    }
   ],
   "source": [
    "largest_temp_range = max(d, key=d.get)\n",
    "print(largest_temp_range, \"has the largest temperature range:\", max(d.values()))"
   ]
  },
  {
   "cell_type": "markdown",
   "metadata": {},
   "source": [
    "### 2. Which cities would you consider to be the most and least polluted? Explain the logic for your answer in detail."
   ]
  },
  {
   "cell_type": "markdown",
   "metadata": {},
   "source": [
    "Accoring to [EPA](https://www.epa.gov/pm-pollution/particulate-matter-pm-basics), I decided to use PM2.5 value to measure how heavy a city is polluted.  "
   ]
  },
  {
   "cell_type": "markdown",
   "metadata": {},
   "source": [
    "Firstly, I calculate the average PM2.5 of each city."
   ]
  },
  {
   "cell_type": "code",
   "execution_count": 11,
   "metadata": {},
   "outputs": [
    {
     "data": {
      "text/plain": [
       "Beijing      95.904241\n",
       "Chengdu      83.407612\n",
       "Guangzhou    50.803938\n",
       "Shanghai     52.910544\n",
       "Shenyang     75.837500\n",
       "dtype: float64"
      ]
     },
     "execution_count": 11,
     "metadata": {},
     "output_type": "execute_result"
    }
   ],
   "source": [
    "avg_Beijing = Beijing['PM'].mean() \n",
    "avg_Chengdu = Chengdu['PM'].mean() \n",
    "avg_Guangzhou = Guangzhou['PM'].mean() \n",
    "avg_Shanghai = Shanghai['PM'].mean() \n",
    "avg_Shenyang = Shenyang['PM'].mean() \n",
    "\n",
    "avg = {'Beijing': avg_Beijing, 'Chengdu': avg_Chengdu, 'Guangzhou': avg_Guangzhou, 'Shanghai': avg_Shanghai, 'Shenyang': avg_Shenyang}\n",
    "ser = pd.Series(data=avg)\n",
    "ser"
   ]
  },
  {
   "cell_type": "markdown",
   "metadata": {},
   "source": [
    "Secondly, I calculate the maximum PM2.5 of each city."
   ]
  },
  {
   "cell_type": "code",
   "execution_count": 12,
   "metadata": {},
   "outputs": [
    {
     "data": {
      "text/plain": [
       "Beijing      994.0\n",
       "Chengdu      688.0\n",
       "Guangzhou    526.0\n",
       "Shanghai     730.0\n",
       "Shenyang     932.0\n",
       "dtype: float64"
      ]
     },
     "execution_count": 12,
     "metadata": {},
     "output_type": "execute_result"
    }
   ],
   "source": [
    "max1 = Beijing['PM'].max() \n",
    "max2 = Chengdu['PM'].max() \n",
    "max3 = Guangzhou['PM'].max() \n",
    "max4 = Shanghai['PM'].max() \n",
    "max5 = Shenyang['PM'].max() \n",
    "\n",
    "max_PM = {'Beijing': max1, 'Chengdu': max2, 'Guangzhou': max3, 'Shanghai': max4, 'Shenyang': max5}\n",
    "ser = pd.Series(data=max_PM)\n",
    "ser"
   ]
  },
  {
   "cell_type": "code",
   "execution_count": 13,
   "metadata": {},
   "outputs": [
    {
     "name": "stdout",
     "output_type": "stream",
     "text": [
      "Beijing has the largest average PM2.5: 95.90424117331851\n",
      "Beijing has the largest PM2.5: 994.0\n"
     ]
    }
   ],
   "source": [
    "max_Avg_PM = max(avg, key=avg.get)\n",
    "print(max_Avg_PM, \"has the largest average PM2.5:\", max(avg.values()))\n",
    "\n",
    "max_PM_city = max(max_PM, key=max_PM.get)\n",
    "print(max_PM_city, \"has the largest PM2.5:\", max(max_PM.values()))"
   ]
  },
  {
   "cell_type": "code",
   "execution_count": 14,
   "metadata": {},
   "outputs": [
    {
     "name": "stdout",
     "output_type": "stream",
     "text": [
      "Guangzhou has the largest average PM2.5: 50.80393793273986\n",
      "Guangzhou has the largest PM2.5: 526.0\n"
     ]
    }
   ],
   "source": [
    "max_Avg_PM = min(avg, key=avg.get)\n",
    "print(max_Avg_PM, \"has the largest average PM2.5:\", min(avg.values()))\n",
    "\n",
    "max_PM_city = min(max_PM, key=max_PM.get)\n",
    "print(max_PM_city, \"has the largest PM2.5:\", min(max_PM.values()))"
   ]
  },
  {
   "cell_type": "markdown",
   "metadata": {},
   "source": [
    "Since Beijing has the highest average PM value as well as the maximum PM value among all other cities, I think Beijing is the most polluted city.  \n",
    "\n",
    "Since Guangzhou has the lowest average PM value as well as the minimum PM value among all other cities, I think Guangzhou is the least polluted city.  "
   ]
  },
  {
   "cell_type": "markdown",
   "metadata": {},
   "source": [
    "### 3. What is the average temperature for each of the four seasons in each of the cities?"
   ]
  },
  {
   "cell_type": "code",
   "execution_count": 15,
   "metadata": {},
   "outputs": [
    {
     "data": {
      "text/plain": [
       "season\n",
       "1    14.008455\n",
       "2    25.852710\n",
       "3    12.623598\n",
       "4    -2.434568\n",
       "Name: TEMP, dtype: float64"
      ]
     },
     "execution_count": 15,
     "metadata": {},
     "output_type": "execute_result"
    }
   ],
   "source": [
    "Beijing.groupby(['season']).mean()['TEMP']"
   ]
  },
  {
   "cell_type": "code",
   "execution_count": 16,
   "metadata": {},
   "outputs": [
    {
     "data": {
      "text/plain": [
       "season\n",
       "1    18.258194\n",
       "2    25.966364\n",
       "3    18.356543\n",
       "4     8.052331\n",
       "Name: TEMP, dtype: float64"
      ]
     },
     "execution_count": 16,
     "metadata": {},
     "output_type": "execute_result"
    }
   ],
   "source": [
    "Chengdu.groupby(['season']).mean()['TEMP']"
   ]
  },
  {
   "cell_type": "code",
   "execution_count": 17,
   "metadata": {},
   "outputs": [
    {
     "data": {
      "text/plain": [
       "season\n",
       "1.0    21.906167\n",
       "2.0    28.203261\n",
       "3.0    23.635798\n",
       "4.0    14.099237\n",
       "Name: TEMP, dtype: float64"
      ]
     },
     "execution_count": 17,
     "metadata": {},
     "output_type": "execute_result"
    }
   ],
   "source": [
    "Guangzhou.groupby(['season']).mean()['TEMP']"
   ]
  },
  {
   "cell_type": "code",
   "execution_count": 18,
   "metadata": {},
   "outputs": [
    {
     "data": {
      "text/plain": [
       "season\n",
       "1    15.982709\n",
       "2    27.705798\n",
       "3    19.765703\n",
       "4     6.227308\n",
       "Name: TEMP, dtype: float64"
      ]
     },
     "execution_count": 18,
     "metadata": {},
     "output_type": "execute_result"
    }
   ],
   "source": [
    "Shanghai.groupby(['season']).mean()['TEMP']"
   ]
  },
  {
   "cell_type": "code",
   "execution_count": 19,
   "metadata": {},
   "outputs": [
    {
     "data": {
      "text/plain": [
       "season\n",
       "1     9.456422\n",
       "2    23.612061\n",
       "3     9.809549\n",
       "4    -9.199953\n",
       "Name: TEMP, dtype: float64"
      ]
     },
     "execution_count": 19,
     "metadata": {},
     "output_type": "execute_result"
    }
   ],
   "source": [
    "Shenyang.groupby(['season']).mean()['TEMP']"
   ]
  },
  {
   "cell_type": "markdown",
   "metadata": {},
   "source": [
    "### 4. Where are the hottest summers and coldest winters observed? Explain how you defined hottest and coldest."
   ]
  },
  {
   "cell_type": "markdown",
   "metadata": {},
   "source": [
    "I would like to use average temperature to measure how hot or cold a city is, so I calculate the average temperature in each city during summer and winter. Thus, a city with the hottest summer has the highest average temperature in season 2, while a city with the coldest winter has the lowest average temperature in season 4.  \n",
    "(According to the temperature data in each season, I think season 2 should be summer and season 4 should be winter)."
   ]
  },
  {
   "cell_type": "code",
   "execution_count": 20,
   "metadata": {},
   "outputs": [
    {
     "data": {
      "text/plain": [
       "Beijing      25.852710\n",
       "Chengdu      25.966364\n",
       "Guangzhou    28.203261\n",
       "Shanghai     27.705798\n",
       "Shenyang     23.612061\n",
       "dtype: float64"
      ]
     },
     "execution_count": 20,
     "metadata": {},
     "output_type": "execute_result"
    }
   ],
   "source": [
    "av1_summer = Beijing.groupby(['season']).mean()['TEMP'][2]\n",
    "av2_summer = Chengdu.groupby(['season']).mean()['TEMP'][2]\n",
    "av3_summer = Guangzhou.groupby(['season']).mean()['TEMP'][2]\n",
    "av4_summer = Shanghai.groupby(['season']).mean()['TEMP'][2]\n",
    "av5_summer = Shenyang.groupby(['season']).mean()['TEMP'][2]\n",
    "\n",
    "avg_summer = {'Beijing': av1_summer, 'Chengdu': av2_summer, 'Guangzhou': av3_summer, 'Shanghai': av4_summer, 'Shenyang': av5_summer}\n",
    "ser = pd.Series(data=avg_summer)\n",
    "ser"
   ]
  },
  {
   "cell_type": "code",
   "execution_count": 21,
   "metadata": {},
   "outputs": [
    {
     "name": "stdout",
     "output_type": "stream",
     "text": [
      "Guangzhou has the hottest summer, average temperature is: 28.2032608711783\n"
     ]
    }
   ],
   "source": [
    "hottest = max(avg_summer, key=avg_summer.get)\n",
    "print(hottest, \"has the hottest summer, average temperature is:\", max(avg_summer.values()))"
   ]
  },
  {
   "cell_type": "markdown",
   "metadata": {},
   "source": [
    "From above data, we know Guangzhou has the highest average temperature in summer."
   ]
  },
  {
   "cell_type": "code",
   "execution_count": 22,
   "metadata": {},
   "outputs": [
    {
     "data": {
      "text/plain": [
       "Beijing      -2.434568\n",
       "Chengdu       8.052331\n",
       "Guangzhou    14.099237\n",
       "Shanghai      6.227308\n",
       "Shenyang     -9.199953\n",
       "dtype: float64"
      ]
     },
     "execution_count": 22,
     "metadata": {},
     "output_type": "execute_result"
    }
   ],
   "source": [
    "av1_winter = Beijing.groupby(['season']).mean()['TEMP'][4]\n",
    "av2_winter = Chengdu.groupby(['season']).mean()['TEMP'][4]\n",
    "av3_winter = Guangzhou.groupby(['season']).mean()['TEMP'][4]\n",
    "av4_winter = Shanghai.groupby(['season']).mean()['TEMP'][4]\n",
    "av5_winter = Shenyang.groupby(['season']).mean()['TEMP'][4]\n",
    "\n",
    "avg_winter = {'Beijing': av1_winter, 'Chengdu': av2_winter, 'Guangzhou': av3_winter, 'Shanghai': av4_winter, 'Shenyang': av5_winter}\n",
    "ser = pd.Series(data=avg_winter)\n",
    "ser"
   ]
  },
  {
   "cell_type": "code",
   "execution_count": 23,
   "metadata": {},
   "outputs": [
    {
     "name": "stdout",
     "output_type": "stream",
     "text": [
      "Shenyang has the coldest winter, average temperature is: -9.199953372707492\n"
     ]
    }
   ],
   "source": [
    "coldest = min(avg_winter, key=avg_winter.get)\n",
    "print(coldest, \"has the coldest winter, average temperature is:\", min(avg_winter.values()))"
   ]
  },
  {
   "cell_type": "markdown",
   "metadata": {},
   "source": [
    "From above data, we know Shenyang has the lowest average temperature in winter."
   ]
  },
  {
   "cell_type": "markdown",
   "metadata": {},
   "source": [
    "Thus, I think Guangzhou is the hottest summer city and Shenyang is the coldest winter city."
   ]
  },
  {
   "cell_type": "markdown",
   "metadata": {},
   "source": [
    "### 5. Which feature appears to contain the largest amount of missing data overall?"
   ]
  },
  {
   "cell_type": "code",
   "execution_count": 24,
   "metadata": {},
   "outputs": [],
   "source": [
    "def cal_max_missing(df):\n",
    "    max_num = 0\n",
    "    max_missing_feature = ''\n",
    "    for column in df:\n",
    "        missing = df[column].isnull().sum()\n",
    "        if (missing > max_num):\n",
    "            max_num = missing\n",
    "            max_missing_feature = column\n",
    "    return max_missing_feature"
   ]
  },
  {
   "cell_type": "code",
   "execution_count": 25,
   "metadata": {},
   "outputs": [
    {
     "name": "stdout",
     "output_type": "stream",
     "text": [
      "largest missing data in Beijing: PM\n",
      "largest missing data in Chengdu: PM\n",
      "largest missing data in Guangzhou: PM\n",
      "largest missing data in Shanghai: PM\n",
      "largest missing data in Shenyang: PM\n"
     ]
    }
   ],
   "source": [
    "print('largest missing data in Beijing:', cal_max_missing(Beijing))\n",
    "print('largest missing data in Chengdu:', cal_max_missing(Chengdu))\n",
    "print('largest missing data in Guangzhou:', cal_max_missing(Guangzhou))\n",
    "print('largest missing data in Shanghai:', cal_max_missing(Shanghai))\n",
    "print('largest missing data in Shenyang:', cal_max_missing(Shenyang))"
   ]
  },
  {
   "cell_type": "markdown",
   "metadata": {},
   "source": [
    "Thus, I think \"PM\" contains the largest amount of missing data."
   ]
  },
  {
   "cell_type": "markdown",
   "metadata": {},
   "source": [
    "## 1.2 Visualizations"
   ]
  },
  {
   "cell_type": "code",
   "execution_count": 26,
   "metadata": {},
   "outputs": [],
   "source": [
    "Beijing.set_index(pd.to_datetime(Beijing[[\"year\",\"month\",\"day\",\"hour\"]]), inplace=True)\n",
    "Chengdu.set_index(pd.to_datetime(Chengdu[[\"year\",\"month\",\"day\",\"hour\"]]), inplace=True)\n",
    "Guangzhou.set_index(pd.to_datetime(Guangzhou[[\"year\",\"month\",\"day\",\"hour\"]]), inplace=True)\n",
    "Shanghai.set_index(pd.to_datetime(Shanghai[[\"year\",\"month\",\"day\",\"hour\"]]), inplace=True)\n",
    "Shenyang.set_index(pd.to_datetime(Shenyang[[\"year\",\"month\",\"day\",\"hour\"]]), inplace=True)"
   ]
  },
  {
   "cell_type": "code",
   "execution_count": 27,
   "metadata": {},
   "outputs": [
    {
     "data": {
      "text/html": [
       "<div>\n",
       "<style scoped>\n",
       "    .dataframe tbody tr th:only-of-type {\n",
       "        vertical-align: middle;\n",
       "    }\n",
       "\n",
       "    .dataframe tbody tr th {\n",
       "        vertical-align: top;\n",
       "    }\n",
       "\n",
       "    .dataframe thead th {\n",
       "        text-align: right;\n",
       "    }\n",
       "</style>\n",
       "<table border=\"1\" class=\"dataframe\">\n",
       "  <thead>\n",
       "    <tr style=\"text-align: right;\">\n",
       "      <th></th>\n",
       "      <th>year</th>\n",
       "      <th>month</th>\n",
       "      <th>day</th>\n",
       "      <th>hour</th>\n",
       "      <th>season</th>\n",
       "      <th>PM</th>\n",
       "      <th>DEWP</th>\n",
       "      <th>HUMI</th>\n",
       "      <th>PRES</th>\n",
       "      <th>TEMP</th>\n",
       "      <th>Iws</th>\n",
       "      <th>precipitation</th>\n",
       "      <th>Iprec</th>\n",
       "    </tr>\n",
       "  </thead>\n",
       "  <tbody>\n",
       "    <tr>\n",
       "      <th>2010-01-01 00:00:00</th>\n",
       "      <td>2010</td>\n",
       "      <td>1</td>\n",
       "      <td>1</td>\n",
       "      <td>0</td>\n",
       "      <td>4</td>\n",
       "      <td>NaN</td>\n",
       "      <td>-21.0</td>\n",
       "      <td>43.0</td>\n",
       "      <td>1021.0</td>\n",
       "      <td>-11.0</td>\n",
       "      <td>1.79</td>\n",
       "      <td>0.0</td>\n",
       "      <td>0.0</td>\n",
       "    </tr>\n",
       "    <tr>\n",
       "      <th>2010-01-01 01:00:00</th>\n",
       "      <td>2010</td>\n",
       "      <td>1</td>\n",
       "      <td>1</td>\n",
       "      <td>1</td>\n",
       "      <td>4</td>\n",
       "      <td>NaN</td>\n",
       "      <td>-21.0</td>\n",
       "      <td>47.0</td>\n",
       "      <td>1020.0</td>\n",
       "      <td>-12.0</td>\n",
       "      <td>4.92</td>\n",
       "      <td>0.0</td>\n",
       "      <td>0.0</td>\n",
       "    </tr>\n",
       "    <tr>\n",
       "      <th>2010-01-01 02:00:00</th>\n",
       "      <td>2010</td>\n",
       "      <td>1</td>\n",
       "      <td>1</td>\n",
       "      <td>2</td>\n",
       "      <td>4</td>\n",
       "      <td>NaN</td>\n",
       "      <td>-21.0</td>\n",
       "      <td>43.0</td>\n",
       "      <td>1019.0</td>\n",
       "      <td>-11.0</td>\n",
       "      <td>6.71</td>\n",
       "      <td>0.0</td>\n",
       "      <td>0.0</td>\n",
       "    </tr>\n",
       "    <tr>\n",
       "      <th>2010-01-01 03:00:00</th>\n",
       "      <td>2010</td>\n",
       "      <td>1</td>\n",
       "      <td>1</td>\n",
       "      <td>3</td>\n",
       "      <td>4</td>\n",
       "      <td>NaN</td>\n",
       "      <td>-21.0</td>\n",
       "      <td>55.0</td>\n",
       "      <td>1019.0</td>\n",
       "      <td>-14.0</td>\n",
       "      <td>9.84</td>\n",
       "      <td>0.0</td>\n",
       "      <td>0.0</td>\n",
       "    </tr>\n",
       "    <tr>\n",
       "      <th>2010-01-01 04:00:00</th>\n",
       "      <td>2010</td>\n",
       "      <td>1</td>\n",
       "      <td>1</td>\n",
       "      <td>4</td>\n",
       "      <td>4</td>\n",
       "      <td>NaN</td>\n",
       "      <td>-20.0</td>\n",
       "      <td>51.0</td>\n",
       "      <td>1018.0</td>\n",
       "      <td>-12.0</td>\n",
       "      <td>12.97</td>\n",
       "      <td>0.0</td>\n",
       "      <td>0.0</td>\n",
       "    </tr>\n",
       "  </tbody>\n",
       "</table>\n",
       "</div>"
      ],
      "text/plain": [
       "                     year  month  day  hour  season  PM  DEWP  HUMI    PRES  \\\n",
       "2010-01-01 00:00:00  2010      1    1     0       4 NaN -21.0  43.0  1021.0   \n",
       "2010-01-01 01:00:00  2010      1    1     1       4 NaN -21.0  47.0  1020.0   \n",
       "2010-01-01 02:00:00  2010      1    1     2       4 NaN -21.0  43.0  1019.0   \n",
       "2010-01-01 03:00:00  2010      1    1     3       4 NaN -21.0  55.0  1019.0   \n",
       "2010-01-01 04:00:00  2010      1    1     4       4 NaN -20.0  51.0  1018.0   \n",
       "\n",
       "                     TEMP    Iws  precipitation  Iprec  \n",
       "2010-01-01 00:00:00 -11.0   1.79            0.0    0.0  \n",
       "2010-01-01 01:00:00 -12.0   4.92            0.0    0.0  \n",
       "2010-01-01 02:00:00 -11.0   6.71            0.0    0.0  \n",
       "2010-01-01 03:00:00 -14.0   9.84            0.0    0.0  \n",
       "2010-01-01 04:00:00 -12.0  12.97            0.0    0.0  "
      ]
     },
     "execution_count": 27,
     "metadata": {},
     "output_type": "execute_result"
    }
   ],
   "source": [
    "Beijing.head()"
   ]
  },
  {
   "cell_type": "markdown",
   "metadata": {},
   "source": [
    "### 1. Using your library of choice, generate a line chart showing the temperate (y-axis) and dates (x-axis) for one of the five cities. Is there a noticeable seasonal pattern?"
   ]
  },
  {
   "cell_type": "code",
   "execution_count": 28,
   "metadata": {},
   "outputs": [
    {
     "data": {
      "image/png": "[encoded data removed]",
      "text/plain": [
       "<Figure size 1440x576 with 1 Axes>"
      ]
     },
     "metadata": {
      "needs_background": "light"
     },
     "output_type": "display_data"
    }
   ],
   "source": [
    "Beijing.plot.line(y='TEMP', figsize=(20, 8), title=\"Temperature Change in Beijing\", xlabel=\"dates\", ylabel=\"temperature\");"
   ]
  },
  {
   "cell_type": "markdown",
   "metadata": {},
   "source": [
    "There is a noticeable seasonal pattern. From above chart, we can see the temperature increased from season 1 to season 3, then decreased from season 3 to season 1 in next year."
   ]
  },
  {
   "cell_type": "markdown",
   "metadata": {},
   "source": [
    "### 2. Create a boxplot showing the temperature values aggregated by month for one of the five cities."
   ]
  },
  {
   "cell_type": "markdown",
   "metadata": {},
   "source": [
    "I'm not sure if this question asks us to create a boxplot using the average temperature value for each month OR create a boxplot for every month, so I just did both. "
   ]
  },
  {
   "cell_type": "code",
   "execution_count": 43,
   "metadata": {},
   "outputs": [],
   "source": [
    "agg_temp = Shanghai.groupby(by=\"month\").mean()['TEMP']\n",
    "df = agg_temp.to_frame()\n"
   ]
  },
  {
   "cell_type": "code",
   "execution_count": 30,
   "metadata": {},
   "outputs": [
    {
     "data": {
      "image/png": "[encoded data removed]",
      "text/plain": [
       "<Figure size 432x288 with 1 Axes>"
      ]
     },
     "metadata": {
      "needs_background": "light"
     },
     "output_type": "display_data"
    }
   ],
   "source": [
    "boxplot = df.boxplot()"
   ]
  },
  {
   "cell_type": "code",
   "execution_count": 40,
   "metadata": {},
   "outputs": [],
   "source": [
    "Jan = Shanghai.loc[Shanghai['month'] == 1]['TEMP']\n",
    "Feb = Shanghai.loc[Shanghai['month'] == 2]['TEMP']\n",
    "Mar = Shanghai.loc[Shanghai['month'] == 3]['TEMP']\n",
    "Apr = Shanghai.loc[Shanghai['month'] == 4]['TEMP']\n",
    "May = Shanghai.loc[Shanghai['month'] == 5]['TEMP']\n",
    "Jun = Shanghai.loc[Shanghai['month'] == 6]['TEMP']\n",
    "Jul = Shanghai.loc[Shanghai['month'] == 7]['TEMP']\n",
    "Aug = Shanghai.loc[Shanghai['month'] == 8]['TEMP']\n",
    "Sep = Shanghai.loc[Shanghai['month'] == 9]['TEMP']\n",
    "Oct = Shanghai.loc[Shanghai['month'] == 10]['TEMP']\n",
    "Nov = Shanghai.loc[Shanghai['month'] == 11]['TEMP']\n",
    "Dec = Shanghai.loc[Shanghai['month'] == 12]['TEMP']\n",
    "\n",
    "frame = { 'Jan': Jan, 'Feb': Feb, 'Mar': Mar, 'Apr': Apr, 'May': May, 'Jun': Jun, 'Jul': Jul, 'Aug': Aug,\n",
    "        'Sep': Sep, 'Oct': Oct, 'Nov': Nov, 'Dec': Dec} \n",
    "df = pd.DataFrame(frame) "
   ]
  },
  {
   "cell_type": "code",
   "execution_count": 42,
   "metadata": {},
   "outputs": [
    {
     "data": {
      "image/png": "[encoded data removed]",
      "text/plain": [
       "<Figure size 1440x576 with 1 Axes>"
      ]
     },
     "metadata": {
      "needs_background": "light"
     },
     "output_type": "display_data"
    }
   ],
   "source": [
    "boxplot = df.boxplot(figsize=(20, 8))"
   ]
  },
  {
   "cell_type": "markdown",
   "metadata": {},
   "source": [
    "### 3. Create a scatter plot using two features of your choice. Choose a pair of features that you believe have some correlation between them. Based on your visualization, do they seem to be correlated?"
   ]
  },
  {
   "cell_type": "code",
   "execution_count": 473,
   "metadata": {},
   "outputs": [
    {
     "data": {
      "text/plain": [
       "<AxesSubplot:title={'center':'Relation between Dew Point and Humidity'}, xlabel='DEWP', ylabel='HUMI'>"
      ]
     },
     "execution_count": 473,
     "metadata": {},
     "output_type": "execute_result"
    },
    {
     "data": {
      "image/png": "[encoded data removed]",
      "text/plain": [
       "<Figure size 1440x576 with 1 Axes>"
      ]
     },
     "metadata": {
      "needs_background": "light"
     },
     "output_type": "display_data"
    }
   ],
   "source": [
    "Shanghai.plot.scatter(x='DEWP', y='HUMI', c='red', figsize=(20, 8), title=\"Relation between Dew Point and Humidity\")\n"
   ]
  },
  {
   "cell_type": "markdown",
   "metadata": {},
   "source": [
    "I chose \"Dew Point\" and \"Humidity\" as the two features. According to [National Weather Service](https://www.weather.gov/arx/why_dewpoint_vs_humidity#:~:text=The%20dew%20point%20is%20the,(RH)%20of%20100%25.&text=For%20example%2C%20a%20temperature%20of,a%20relative%20humidity%20of%2050%25.), the higher the dew point, the muggier we will feel.  \n",
    "From the above plot, we can see there is a positive correlation between Dew Point and Humidity. When Dew point increases, humidity tends to increase as well.  \n",
    "The reason that a certain Dew Point has multiple humidity is because humidity is also related to both temperature and pressure. If we make them constant, this positive relation should be more clear."
   ]
  },
  {
   "cell_type": "markdown",
   "metadata": {},
   "source": [
    "### 4. Create a single plot that illustrates the value of the PM column over time for each of the five cities. Color and label each city diffierently so that they can be distinguished easily."
   ]
  },
  {
   "cell_type": "markdown",
   "metadata": {},
   "source": [
    "Because there are two many dates, which could be an issue when plotting, so I first combine each date. I get the average PM in each month, use that data to represent the PM value in a certain month and year."
   ]
  },
  {
   "cell_type": "code",
   "execution_count": 563,
   "metadata": {},
   "outputs": [],
   "source": [
    "#Create a function to convert data\n",
    "def convert(row):\n",
    "    if row[\"month\"] < 10:\n",
    "        return \"0\" + str(int(row[\"month\"]))\n",
    "    else:\n",
    "        return str(int(row[\"month\"]))"
   ]
  },
  {
   "cell_type": "markdown",
   "metadata": {},
   "source": [
    "I add a new column -- \"date\", which combine the year and month. For example, 2010-01 is Jan. 2010."
   ]
  },
  {
   "cell_type": "code",
   "execution_count": 564,
   "metadata": {},
   "outputs": [],
   "source": [
    "Beijing[\"month_str\"] = Beijing.apply (lambda row: convert(row), axis=1)\n",
    "Beijing['date'] = Beijing[\"year\"].astype(str) + \"-\" + Beijing[\"month_str\"]\n",
    "\n",
    "Chengdu[\"month_str\"] = Chengdu.apply (lambda row: convert(row), axis=1)\n",
    "Chengdu['date'] = Chengdu[\"year\"].astype(str) + \"-\" + Chengdu[\"month_str\"]\n",
    "\n",
    "Guangzhou[\"month_str\"] = Guangzhou.apply (lambda row: convert(row), axis=1)\n",
    "Guangzhou['date'] = Guangzhou[\"year\"].astype(str) + \"-\" + Guangzhou[\"month_str\"]\n",
    "\n",
    "Shanghai[\"month_str\"] = Shanghai.apply (lambda row: convert(row), axis=1)\n",
    "Shanghai['date'] = Shanghai[\"year\"].astype(str) + \"-\" + Shanghai[\"month_str\"]\n",
    "\n",
    "Shenyang[\"month_str\"] = Shenyang.apply (lambda row: convert(row), axis=1)\n",
    "Shenyang['date'] = Shenyang[\"year\"].astype(str) + \"-\" + Shenyang[\"month_str\"]"
   ]
  },
  {
   "cell_type": "code",
   "execution_count": 565,
   "metadata": {},
   "outputs": [
    {
     "data": {
      "text/html": [
       "<div>\n",
       "<style scoped>\n",
       "    .dataframe tbody tr th:only-of-type {\n",
       "        vertical-align: middle;\n",
       "    }\n",
       "\n",
       "    .dataframe tbody tr th {\n",
       "        vertical-align: top;\n",
       "    }\n",
       "\n",
       "    .dataframe thead th {\n",
       "        text-align: right;\n",
       "    }\n",
       "</style>\n",
       "<table border=\"1\" class=\"dataframe\">\n",
       "  <thead>\n",
       "    <tr style=\"text-align: right;\">\n",
       "      <th></th>\n",
       "      <th>year</th>\n",
       "      <th>month</th>\n",
       "      <th>day</th>\n",
       "      <th>hour</th>\n",
       "      <th>season</th>\n",
       "      <th>PM</th>\n",
       "      <th>DEWP</th>\n",
       "      <th>HUMI</th>\n",
       "      <th>PRES</th>\n",
       "      <th>TEMP</th>\n",
       "      <th>Iws</th>\n",
       "      <th>precipitation</th>\n",
       "      <th>Iprec</th>\n",
       "      <th>month_str</th>\n",
       "      <th>date</th>\n",
       "    </tr>\n",
       "  </thead>\n",
       "  <tbody>\n",
       "    <tr>\n",
       "      <th>2010-01-01 00:00:00</th>\n",
       "      <td>2010</td>\n",
       "      <td>1</td>\n",
       "      <td>1</td>\n",
       "      <td>0</td>\n",
       "      <td>4</td>\n",
       "      <td>NaN</td>\n",
       "      <td>-21.0</td>\n",
       "      <td>43.0</td>\n",
       "      <td>1021.0</td>\n",
       "      <td>-11.0</td>\n",
       "      <td>1.79</td>\n",
       "      <td>0.0</td>\n",
       "      <td>0.0</td>\n",
       "      <td>01</td>\n",
       "      <td>2010-01</td>\n",
       "    </tr>\n",
       "    <tr>\n",
       "      <th>2010-01-01 01:00:00</th>\n",
       "      <td>2010</td>\n",
       "      <td>1</td>\n",
       "      <td>1</td>\n",
       "      <td>1</td>\n",
       "      <td>4</td>\n",
       "      <td>NaN</td>\n",
       "      <td>-21.0</td>\n",
       "      <td>47.0</td>\n",
       "      <td>1020.0</td>\n",
       "      <td>-12.0</td>\n",
       "      <td>4.92</td>\n",
       "      <td>0.0</td>\n",
       "      <td>0.0</td>\n",
       "      <td>01</td>\n",
       "      <td>2010-01</td>\n",
       "    </tr>\n",
       "    <tr>\n",
       "      <th>2010-01-01 02:00:00</th>\n",
       "      <td>2010</td>\n",
       "      <td>1</td>\n",
       "      <td>1</td>\n",
       "      <td>2</td>\n",
       "      <td>4</td>\n",
       "      <td>NaN</td>\n",
       "      <td>-21.0</td>\n",
       "      <td>43.0</td>\n",
       "      <td>1019.0</td>\n",
       "      <td>-11.0</td>\n",
       "      <td>6.71</td>\n",
       "      <td>0.0</td>\n",
       "      <td>0.0</td>\n",
       "      <td>01</td>\n",
       "      <td>2010-01</td>\n",
       "    </tr>\n",
       "    <tr>\n",
       "      <th>2010-01-01 03:00:00</th>\n",
       "      <td>2010</td>\n",
       "      <td>1</td>\n",
       "      <td>1</td>\n",
       "      <td>3</td>\n",
       "      <td>4</td>\n",
       "      <td>NaN</td>\n",
       "      <td>-21.0</td>\n",
       "      <td>55.0</td>\n",
       "      <td>1019.0</td>\n",
       "      <td>-14.0</td>\n",
       "      <td>9.84</td>\n",
       "      <td>0.0</td>\n",
       "      <td>0.0</td>\n",
       "      <td>01</td>\n",
       "      <td>2010-01</td>\n",
       "    </tr>\n",
       "    <tr>\n",
       "      <th>2010-01-01 04:00:00</th>\n",
       "      <td>2010</td>\n",
       "      <td>1</td>\n",
       "      <td>1</td>\n",
       "      <td>4</td>\n",
       "      <td>4</td>\n",
       "      <td>NaN</td>\n",
       "      <td>-20.0</td>\n",
       "      <td>51.0</td>\n",
       "      <td>1018.0</td>\n",
       "      <td>-12.0</td>\n",
       "      <td>12.97</td>\n",
       "      <td>0.0</td>\n",
       "      <td>0.0</td>\n",
       "      <td>01</td>\n",
       "      <td>2010-01</td>\n",
       "    </tr>\n",
       "  </tbody>\n",
       "</table>\n",
       "</div>"
      ],
      "text/plain": [
       "                     year  month  day  hour  season  PM  DEWP  HUMI    PRES  \\\n",
       "2010-01-01 00:00:00  2010      1    1     0       4 NaN -21.0  43.0  1021.0   \n",
       "2010-01-01 01:00:00  2010      1    1     1       4 NaN -21.0  47.0  1020.0   \n",
       "2010-01-01 02:00:00  2010      1    1     2       4 NaN -21.0  43.0  1019.0   \n",
       "2010-01-01 03:00:00  2010      1    1     3       4 NaN -21.0  55.0  1019.0   \n",
       "2010-01-01 04:00:00  2010      1    1     4       4 NaN -20.0  51.0  1018.0   \n",
       "\n",
       "                     TEMP    Iws  precipitation  Iprec month_str     date  \n",
       "2010-01-01 00:00:00 -11.0   1.79            0.0    0.0        01  2010-01  \n",
       "2010-01-01 01:00:00 -12.0   4.92            0.0    0.0        01  2010-01  \n",
       "2010-01-01 02:00:00 -11.0   6.71            0.0    0.0        01  2010-01  \n",
       "2010-01-01 03:00:00 -14.0   9.84            0.0    0.0        01  2010-01  \n",
       "2010-01-01 04:00:00 -12.0  12.97            0.0    0.0        01  2010-01  "
      ]
     },
     "execution_count": 565,
     "metadata": {},
     "output_type": "execute_result"
    }
   ],
   "source": [
    "Beijing.head()"
   ]
  },
  {
   "cell_type": "markdown",
   "metadata": {},
   "source": [
    "Then I aggregate the PM value by \"date\" using mean()."
   ]
  },
  {
   "cell_type": "code",
   "execution_count": 566,
   "metadata": {},
   "outputs": [],
   "source": [
    "df1 = Beijing.groupby(by=\"date\").mean().sort_values(by=['date'])\n",
    "df2 = Chengdu.groupby(by=\"date\").mean().sort_values(by=['date'])\n",
    "df3 = Guangzhou.groupby(by=\"date\").mean().sort_values(by=['date'])\n",
    "df4 = Shanghai.groupby(by=\"date\").mean().sort_values(by=['date'])\n",
    "df5 = Shenyang.groupby(by=\"date\").mean().sort_values(by=['date'])"
   ]
  },
  {
   "cell_type": "code",
   "execution_count": 567,
   "metadata": {},
   "outputs": [
    {
     "data": {
      "text/html": [
       "<div>\n",
       "<style scoped>\n",
       "    .dataframe tbody tr th:only-of-type {\n",
       "        vertical-align: middle;\n",
       "    }\n",
       "\n",
       "    .dataframe tbody tr th {\n",
       "        vertical-align: top;\n",
       "    }\n",
       "\n",
       "    .dataframe thead th {\n",
       "        text-align: right;\n",
       "    }\n",
       "</style>\n",
       "<table border=\"1\" class=\"dataframe\">\n",
       "  <thead>\n",
       "    <tr style=\"text-align: right;\">\n",
       "      <th></th>\n",
       "      <th>year</th>\n",
       "      <th>month</th>\n",
       "      <th>day</th>\n",
       "      <th>hour</th>\n",
       "      <th>season</th>\n",
       "      <th>PM</th>\n",
       "      <th>DEWP</th>\n",
       "      <th>HUMI</th>\n",
       "      <th>PRES</th>\n",
       "      <th>TEMP</th>\n",
       "      <th>Iws</th>\n",
       "      <th>precipitation</th>\n",
       "      <th>Iprec</th>\n",
       "    </tr>\n",
       "    <tr>\n",
       "      <th>date</th>\n",
       "      <th></th>\n",
       "      <th></th>\n",
       "      <th></th>\n",
       "      <th></th>\n",
       "      <th></th>\n",
       "      <th></th>\n",
       "      <th></th>\n",
       "      <th></th>\n",
       "      <th></th>\n",
       "      <th></th>\n",
       "      <th></th>\n",
       "      <th></th>\n",
       "      <th></th>\n",
       "    </tr>\n",
       "  </thead>\n",
       "  <tbody>\n",
       "    <tr>\n",
       "      <th>2010-01</th>\n",
       "      <td>2010.0</td>\n",
       "      <td>1.0</td>\n",
       "      <td>16.0</td>\n",
       "      <td>11.5</td>\n",
       "      <td>4.0</td>\n",
       "      <td>90.403670</td>\n",
       "      <td>-17.013441</td>\n",
       "      <td>46.449597</td>\n",
       "      <td>1028.009409</td>\n",
       "      <td>-6.162634</td>\n",
       "      <td>41.227325</td>\n",
       "      <td>0.015054</td>\n",
       "      <td>0.177688</td>\n",
       "    </tr>\n",
       "    <tr>\n",
       "      <th>2010-02</th>\n",
       "      <td>2010.0</td>\n",
       "      <td>2.0</td>\n",
       "      <td>14.5</td>\n",
       "      <td>11.5</td>\n",
       "      <td>4.0</td>\n",
       "      <td>97.239940</td>\n",
       "      <td>-13.156250</td>\n",
       "      <td>47.644345</td>\n",
       "      <td>1023.776786</td>\n",
       "      <td>-1.922619</td>\n",
       "      <td>13.466786</td>\n",
       "      <td>0.007738</td>\n",
       "      <td>0.027232</td>\n",
       "    </tr>\n",
       "    <tr>\n",
       "      <th>2010-03</th>\n",
       "      <td>2010.0</td>\n",
       "      <td>3.0</td>\n",
       "      <td>16.0</td>\n",
       "      <td>11.5</td>\n",
       "      <td>1.0</td>\n",
       "      <td>94.046544</td>\n",
       "      <td>-7.955645</td>\n",
       "      <td>49.841398</td>\n",
       "      <td>1021.811828</td>\n",
       "      <td>3.293011</td>\n",
       "      <td>23.281237</td>\n",
       "      <td>0.031183</td>\n",
       "      <td>0.155645</td>\n",
       "    </tr>\n",
       "    <tr>\n",
       "      <th>2010-04</th>\n",
       "      <td>2010.0</td>\n",
       "      <td>4.0</td>\n",
       "      <td>15.5</td>\n",
       "      <td>11.5</td>\n",
       "      <td>1.0</td>\n",
       "      <td>80.072423</td>\n",
       "      <td>-3.330556</td>\n",
       "      <td>43.124306</td>\n",
       "      <td>1017.169444</td>\n",
       "      <td>10.806944</td>\n",
       "      <td>58.280833</td>\n",
       "      <td>0.027639</td>\n",
       "      <td>0.070556</td>\n",
       "    </tr>\n",
       "    <tr>\n",
       "      <th>2010-05</th>\n",
       "      <td>2010.0</td>\n",
       "      <td>5.0</td>\n",
       "      <td>16.0</td>\n",
       "      <td>11.5</td>\n",
       "      <td>1.0</td>\n",
       "      <td>87.071913</td>\n",
       "      <td>7.651882</td>\n",
       "      <td>48.200269</td>\n",
       "      <td>1007.896505</td>\n",
       "      <td>20.831989</td>\n",
       "      <td>21.419126</td>\n",
       "      <td>0.067608</td>\n",
       "      <td>0.288710</td>\n",
       "    </tr>\n",
       "  </tbody>\n",
       "</table>\n",
       "</div>"
      ],
      "text/plain": [
       "           year  month   day  hour  season         PM       DEWP       HUMI  \\\n",
       "date                                                                          \n",
       "2010-01  2010.0    1.0  16.0  11.5     4.0  90.403670 -17.013441  46.449597   \n",
       "2010-02  2010.0    2.0  14.5  11.5     4.0  97.239940 -13.156250  47.644345   \n",
       "2010-03  2010.0    3.0  16.0  11.5     1.0  94.046544  -7.955645  49.841398   \n",
       "2010-04  2010.0    4.0  15.5  11.5     1.0  80.072423  -3.330556  43.124306   \n",
       "2010-05  2010.0    5.0  16.0  11.5     1.0  87.071913   7.651882  48.200269   \n",
       "\n",
       "                PRES       TEMP        Iws  precipitation     Iprec  \n",
       "date                                                                 \n",
       "2010-01  1028.009409  -6.162634  41.227325       0.015054  0.177688  \n",
       "2010-02  1023.776786  -1.922619  13.466786       0.007738  0.027232  \n",
       "2010-03  1021.811828   3.293011  23.281237       0.031183  0.155645  \n",
       "2010-04  1017.169444  10.806944  58.280833       0.027639  0.070556  \n",
       "2010-05  1007.896505  20.831989  21.419126       0.067608  0.288710  "
      ]
     },
     "execution_count": 567,
     "metadata": {},
     "output_type": "execute_result"
    }
   ],
   "source": [
    "df1.head()"
   ]
  },
  {
   "cell_type": "markdown",
   "metadata": {},
   "source": [
    "Finally, I plot the processed data."
   ]
  },
  {
   "cell_type": "code",
   "execution_count": 569,
   "metadata": {},
   "outputs": [
    {
     "data": {
      "image/png": "[encoded data removed]",
      "text/plain": [
       "<Figure size 1800x720 with 1 Axes>"
      ]
     },
     "metadata": {
      "needs_background": "light"
     },
     "output_type": "display_data"
    }
   ],
   "source": [
    "import matplotlib.pyplot as plt\n",
    "\n",
    "plt.figure(figsize=(25,10))\n",
    "plt.plot(df1.index, df1['PM'], label='Beijing', color='red')\n",
    "plt.plot(df2.index, df2['PM'], label='Chengdu', color='blue')\n",
    "plt.plot(df3.index, df3['PM'], label='Guangzhou', color='magenta')\n",
    "plt.plot(df4.index, df4['PM'], label='Shanghai', color='green')\n",
    "plt.plot(df5.index, df5['PM'], label='Shenyang', color='orange')\n",
    "\n",
    "plt.tick_params(axis='y', which='both', bottom=False, top=False,\n",
    "                labelbottom=False)\n",
    "plt.ylabel('PM')\n",
    "plt.xlabel('date')\n",
    "plt.legend(loc=\"best\")\n",
    "plt.title('PM2.5 concentration with date')\n",
    "plt.xticks(rotation = 90)\n",
    "\n",
    "plt.show()"
   ]
  },
  {
   "cell_type": "markdown",
   "metadata": {},
   "source": [
    "Because there are some PM values are marked as \"NaN\" in the data, those values are skipped when plotting. I'm not sure it is because they are missing data or there is no much PM detected, so I just left as it is.  \n",
    "\n",
    "We can see except Beijing, all other cities started to have PM value from 2011. Maybe because Beijing became polluted earlier. In addition, in every city, the PM value peak appeared during winter time, which illustrates that the pollution situation was more severe in Winter. We can also see the overall trend are very similar among those cities."
   ]
  },
  {
   "cell_type": "markdown",
   "metadata": {},
   "source": [
    "## 1.3 Regression"
   ]
  },
  {
   "cell_type": "code",
   "execution_count": 571,
   "metadata": {},
   "outputs": [],
   "source": [
    "#Recover dataset\n",
    "Beijing.drop([\"date\", \"month_str\"], axis=1, inplace=True);\n",
    "Chengdu.drop([\"date\", \"month_str\"], axis=1, inplace=True);\n",
    "Guangzhou.drop([\"date\", \"month_str\"], axis=1, inplace=True);\n",
    "Shanghai.drop([\"date\", \"month_str\"], axis=1, inplace=True);\n",
    "Shenyang.drop([\"date\", \"month_str\"], axis=1, inplace=True);"
   ]
  },
  {
   "cell_type": "code",
   "execution_count": 572,
   "metadata": {},
   "outputs": [
    {
     "data": {
      "text/html": [
       "<div>\n",
       "<style scoped>\n",
       "    .dataframe tbody tr th:only-of-type {\n",
       "        vertical-align: middle;\n",
       "    }\n",
       "\n",
       "    .dataframe tbody tr th {\n",
       "        vertical-align: top;\n",
       "    }\n",
       "\n",
       "    .dataframe thead th {\n",
       "        text-align: right;\n",
       "    }\n",
       "</style>\n",
       "<table border=\"1\" class=\"dataframe\">\n",
       "  <thead>\n",
       "    <tr style=\"text-align: right;\">\n",
       "      <th></th>\n",
       "      <th>year</th>\n",
       "      <th>month</th>\n",
       "      <th>day</th>\n",
       "      <th>hour</th>\n",
       "      <th>season</th>\n",
       "      <th>PM</th>\n",
       "      <th>DEWP</th>\n",
       "      <th>HUMI</th>\n",
       "      <th>PRES</th>\n",
       "      <th>TEMP</th>\n",
       "      <th>Iws</th>\n",
       "      <th>precipitation</th>\n",
       "      <th>Iprec</th>\n",
       "    </tr>\n",
       "  </thead>\n",
       "  <tbody>\n",
       "    <tr>\n",
       "      <th>2010-01-01 00:00:00</th>\n",
       "      <td>2010</td>\n",
       "      <td>1</td>\n",
       "      <td>1</td>\n",
       "      <td>0</td>\n",
       "      <td>4</td>\n",
       "      <td>NaN</td>\n",
       "      <td>-21.0</td>\n",
       "      <td>43.0</td>\n",
       "      <td>1021.0</td>\n",
       "      <td>-11.0</td>\n",
       "      <td>1.79</td>\n",
       "      <td>0.0</td>\n",
       "      <td>0.0</td>\n",
       "    </tr>\n",
       "    <tr>\n",
       "      <th>2010-01-01 01:00:00</th>\n",
       "      <td>2010</td>\n",
       "      <td>1</td>\n",
       "      <td>1</td>\n",
       "      <td>1</td>\n",
       "      <td>4</td>\n",
       "      <td>NaN</td>\n",
       "      <td>-21.0</td>\n",
       "      <td>47.0</td>\n",
       "      <td>1020.0</td>\n",
       "      <td>-12.0</td>\n",
       "      <td>4.92</td>\n",
       "      <td>0.0</td>\n",
       "      <td>0.0</td>\n",
       "    </tr>\n",
       "    <tr>\n",
       "      <th>2010-01-01 02:00:00</th>\n",
       "      <td>2010</td>\n",
       "      <td>1</td>\n",
       "      <td>1</td>\n",
       "      <td>2</td>\n",
       "      <td>4</td>\n",
       "      <td>NaN</td>\n",
       "      <td>-21.0</td>\n",
       "      <td>43.0</td>\n",
       "      <td>1019.0</td>\n",
       "      <td>-11.0</td>\n",
       "      <td>6.71</td>\n",
       "      <td>0.0</td>\n",
       "      <td>0.0</td>\n",
       "    </tr>\n",
       "    <tr>\n",
       "      <th>2010-01-01 03:00:00</th>\n",
       "      <td>2010</td>\n",
       "      <td>1</td>\n",
       "      <td>1</td>\n",
       "      <td>3</td>\n",
       "      <td>4</td>\n",
       "      <td>NaN</td>\n",
       "      <td>-21.0</td>\n",
       "      <td>55.0</td>\n",
       "      <td>1019.0</td>\n",
       "      <td>-14.0</td>\n",
       "      <td>9.84</td>\n",
       "      <td>0.0</td>\n",
       "      <td>0.0</td>\n",
       "    </tr>\n",
       "    <tr>\n",
       "      <th>2010-01-01 04:00:00</th>\n",
       "      <td>2010</td>\n",
       "      <td>1</td>\n",
       "      <td>1</td>\n",
       "      <td>4</td>\n",
       "      <td>4</td>\n",
       "      <td>NaN</td>\n",
       "      <td>-20.0</td>\n",
       "      <td>51.0</td>\n",
       "      <td>1018.0</td>\n",
       "      <td>-12.0</td>\n",
       "      <td>12.97</td>\n",
       "      <td>0.0</td>\n",
       "      <td>0.0</td>\n",
       "    </tr>\n",
       "  </tbody>\n",
       "</table>\n",
       "</div>"
      ],
      "text/plain": [
       "                     year  month  day  hour  season  PM  DEWP  HUMI    PRES  \\\n",
       "2010-01-01 00:00:00  2010      1    1     0       4 NaN -21.0  43.0  1021.0   \n",
       "2010-01-01 01:00:00  2010      1    1     1       4 NaN -21.0  47.0  1020.0   \n",
       "2010-01-01 02:00:00  2010      1    1     2       4 NaN -21.0  43.0  1019.0   \n",
       "2010-01-01 03:00:00  2010      1    1     3       4 NaN -21.0  55.0  1019.0   \n",
       "2010-01-01 04:00:00  2010      1    1     4       4 NaN -20.0  51.0  1018.0   \n",
       "\n",
       "                     TEMP    Iws  precipitation  Iprec  \n",
       "2010-01-01 00:00:00 -11.0   1.79            0.0    0.0  \n",
       "2010-01-01 01:00:00 -12.0   4.92            0.0    0.0  \n",
       "2010-01-01 02:00:00 -11.0   6.71            0.0    0.0  \n",
       "2010-01-01 03:00:00 -14.0   9.84            0.0    0.0  \n",
       "2010-01-01 04:00:00 -12.0  12.97            0.0    0.0  "
      ]
     },
     "execution_count": 572,
     "metadata": {},
     "output_type": "execute_result"
    }
   ],
   "source": [
    "Beijing.head()"
   ]
  },
  {
   "cell_type": "code",
   "execution_count": 573,
   "metadata": {},
   "outputs": [],
   "source": [
    "from sklearn.model_selection import train_test_split\n",
    "# Drop rows that have missing values\n",
    "Beijing = Beijing.dropna()\n",
    "# Treat the column PM as our predictive objective\n",
    "y = Beijing[\"PM\"]\n",
    "# All other columns will be used as features when training our model\n",
    "X = Beijing.drop([\"PM\"], axis=1)\n",
    "# Split 70% of the data for training and leave out 30% for testing\n",
    "X_train_1, X_test_1, y_train_1, y_test_1 = train_test_split(X, y, test_size=0.3, random_state=42)"
   ]
  },
  {
   "cell_type": "code",
   "execution_count": 574,
   "metadata": {},
   "outputs": [],
   "source": [
    "Chengdu = Chengdu.dropna()\n",
    "y = Chengdu[\"PM\"]\n",
    "X = Chengdu.drop([\"PM\"], axis=1)\n",
    "X_train_2, X_test_2, y_train_2, y_test_2 = train_test_split(X, y, test_size=0.3, random_state=42)\n",
    "\n",
    "Guangzhou = Guangzhou.dropna()\n",
    "y = Guangzhou[\"PM\"]\n",
    "X = Guangzhou.drop([\"PM\"], axis=1)\n",
    "X_train_3, X_test_3, y_train_3, y_test_3 = train_test_split(X, y, test_size=0.3, random_state=42)\n",
    "\n",
    "Shanghai = Shanghai.dropna()\n",
    "y = Shanghai[\"PM\"]\n",
    "X = Shanghai.drop([\"PM\"], axis=1)\n",
    "X_train_4, X_test_4, y_train_4, y_test_4 = train_test_split(X, y, test_size=0.3, random_state=42)\n",
    "\n",
    "Shenyang = Shenyang.dropna()\n",
    "y = Shenyang[\"PM\"]\n",
    "X = Shenyang.drop([\"PM\"], axis=1)\n",
    "X_train_5, X_test_5, y_train_5, y_test_5 = train_test_split(X, y, test_size=0.3, random_state=42)"
   ]
  },
  {
   "cell_type": "markdown",
   "metadata": {},
   "source": [
    "### 1. Train and evaluate a linear regression model to predict the PM value. Repeat this for each city and be sure to evaluate your model using the X test set."
   ]
  },
  {
   "cell_type": "code",
   "execution_count": 575,
   "metadata": {},
   "outputs": [
    {
     "data": {
      "text/plain": [
       "LinearRegression()"
      ]
     },
     "execution_count": 575,
     "metadata": {},
     "output_type": "execute_result"
    }
   ],
   "source": [
    "#Train the data\n",
    "from sklearn import linear_model\n",
    "reg1 = linear_model.LinearRegression()\n",
    "reg1.fit (X_train_1, y_train_1)\n",
    "\n",
    "reg2 = linear_model.LinearRegression()\n",
    "reg2.fit (X_train_2, y_train_2)\n",
    "\n",
    "reg3 = linear_model.LinearRegression()\n",
    "reg3.fit (X_train_3, y_train_3)\n",
    "\n",
    "reg4 = linear_model.LinearRegression()\n",
    "reg4.fit (X_train_4, y_train_4)\n",
    "\n",
    "reg5 = linear_model.LinearRegression()\n",
    "reg5.fit (X_train_5, y_train_5)"
   ]
  },
  {
   "cell_type": "code",
   "execution_count": 576,
   "metadata": {},
   "outputs": [
    {
     "name": "stdout",
     "output_type": "stream",
     "text": [
      "r-squared for Beijing dataset: 0.2695063871925233\n",
      "r-squared for Chengdu dataset: 0.2741246285283506\n",
      "r-squared for Guangzhou dataset: 0.14467127942864788\n",
      "r-squared for Shanghai dataset: 0.1718142013741748\n",
      "r-squared for Shenyang dataset: 0.21522311748622303\n"
     ]
    }
   ],
   "source": [
    "from sklearn.metrics import r2_score\n",
    "pred1 = reg1.predict(X_test_1)\n",
    "print(\"r-squared for Beijing dataset: \" + str(r2_score(y_test_1, pred1)))\n",
    "\n",
    "pred2 = reg2.predict(X_test_2)\n",
    "print(\"r-squared for Chengdu dataset: \" + str(r2_score(y_test_2, pred2)))\n",
    "\n",
    "pred3 = reg3.predict(X_test_3)\n",
    "print(\"r-squared for Guangzhou dataset: \" + str(r2_score(y_test_3, pred3)))\n",
    "     \n",
    "pred4 = reg4.predict(X_test_4)\n",
    "print(\"r-squared for Shanghai dataset: \" + str(r2_score(y_test_4, pred4)))\n",
    "\n",
    "pred5 = reg5.predict(X_test_5)\n",
    "print(\"r-squared for Shenyang dataset: \" + str(r2_score(y_test_5, pred5)))"
   ]
  },
  {
   "cell_type": "markdown",
   "metadata": {},
   "source": [
    "### 2. Use the dataset for one city of your choice for training and evaluate your linear regression on the dataset of another city. How do your results compare to when you used data from the same city for both training and testing?"
   ]
  },
  {
   "cell_type": "code",
   "execution_count": 488,
   "metadata": {},
   "outputs": [
    {
     "data": {
      "text/plain": [
       "-6.8692800494617865"
      ]
     },
     "execution_count": 488,
     "metadata": {},
     "output_type": "execute_result"
    }
   ],
   "source": [
    "#Train dataset 1, evaluate using dataset 3\n",
    "pred = reg1.predict(X_test_3)\n",
    "r2_score(y_test_3, pred)"
   ]
  },
  {
   "cell_type": "markdown",
   "metadata": {},
   "source": [
    "I use Beijing dataset as the training model and use that model to predict the results of Guangzhou. The r-squared result is negative, which means the chosen model does not follow the trend of the data. Instead, when using data from the same city for both training and testing, the result is positive, which means the model follow the trend."
   ]
  },
  {
   "cell_type": "markdown",
   "metadata": {},
   "source": [
    "### 3. Using a city of your choice, train and evaluate a linear regression to predict the values of one of the other columns (not PM). Is there a particular column that seems to be easier to predict than others? Why do you think that is?"
   ]
  },
  {
   "cell_type": "code",
   "execution_count": 577,
   "metadata": {},
   "outputs": [],
   "source": [
    "y = Shanghai[\"HUMI\"]\n",
    "X = Shanghai.drop([\"HUMI\"], axis=1)\n",
    "X_train, X_test, y_train, y_test = train_test_split(X, y, test_size=0.3, random_state=42)"
   ]
  },
  {
   "cell_type": "code",
   "execution_count": 578,
   "metadata": {
    "scrolled": true
   },
   "outputs": [
    {
     "data": {
      "text/plain": [
       "LinearRegression()"
      ]
     },
     "execution_count": 578,
     "metadata": {},
     "output_type": "execute_result"
    }
   ],
   "source": [
    "reg = linear_model.LinearRegression()\n",
    "reg.fit (X_train, y_train)"
   ]
  },
  {
   "cell_type": "code",
   "execution_count": 579,
   "metadata": {},
   "outputs": [
    {
     "data": {
      "text/plain": [
       "0.9674149427399534"
      ]
     },
     "execution_count": 579,
     "metadata": {},
     "output_type": "execute_result"
    }
   ],
   "source": [
    "pred = reg.predict(X_test)\n",
    "r2_score(y_test, pred)"
   ]
  },
  {
   "cell_type": "markdown",
   "metadata": {},
   "source": [
    "I was originally thinking \"season\" would be the easiest feature to predict as certain months belong to a certain season. However, I only got 30% or so r-squared score. I think it might becuase there are many features in the X set, not just date, so after adding all other features together makes predicting \"season\" not that easy.  \n",
    "\n",
    "Then I found \"HUMI\", \"DEWP\" and \"TEMP\" get very high r-squared scores. Logically，I think “Humidity” seems to be easier to predict becuase it highly depends on Dew Point, Temperature and Pressure. It is also related to season, like in winter,  the humidity is lower. In summer, the humidity is higher. \"Humidity\" seems to have relation with almost every other feature. That could give us enough data points to predit its value. Thus, by combining all those featuers, we can perfectly predict humidity."
   ]
  },
  {
   "cell_type": "markdown",
   "metadata": {},
   "source": [
    "## 1.4 Bonus question"
   ]
  },
  {
   "cell_type": "markdown",
   "metadata": {},
   "source": [
    "I would like to choose Guangzhou. Because:\n",
    "1. Guangzhou has the minimum pollution. (According to the PM value comparison, whenever in a year, the PM value is almost the lowest among all other cities)\n",
    "2. Guangzhou is the only city that the minimum temperature is above 0. I like living in warm place and don't like cold. According to the plot 2, Guangzhou is the warmest place.\n",
    "3. Guangzhou has a higher Humidity over the year as shown in plot 3. I don't like dry places as it is not good for skins :)\n",
    "\n",
    "Details are shown in Slack."
   ]
  },
  {
   "cell_type": "code",
   "execution_count": 580,
   "metadata": {},
   "outputs": [
    {
     "name": "stdout",
     "output_type": "stream",
     "text": [
      "-19.0\n",
      "-2.0\n",
      "1.7\n",
      "-4.0\n",
      "-25.0\n"
     ]
    }
   ],
   "source": [
    "print(Beijing[\"TEMP\"].min())\n",
    "print(Chengdu[\"TEMP\"].min())\n",
    "print(Guangzhou[\"TEMP\"].min())\n",
    "print(Shanghai[\"TEMP\"].min())\n",
    "print(Shenyang[\"TEMP\"].min())"
   ]
  },
  {
   "cell_type": "code",
   "execution_count": 581,
   "metadata": {},
   "outputs": [
    {
     "name": "stdout",
     "output_type": "stream",
     "text": [
      "54.51098247241776\n",
      "72.67594672610252\n",
      "76.73438224475287\n",
      "69.43403920953273\n",
      "60.20907979659534\n"
     ]
    }
   ],
   "source": [
    "print(Beijing[\"HUMI\"].mean())\n",
    "print(Chengdu[\"HUMI\"].mean())\n",
    "print(Guangzhou[\"HUMI\"].mean())\n",
    "print(Shanghai[\"HUMI\"].mean())\n",
    "print(Shenyang[\"HUMI\"].mean())"
   ]
  }
 ],
 "metadata": {
  "kernelspec": {
   "display_name": "Python 3",
   "language": "python",
   "name": "python3"
  },
  "language_info": {
   "codemirror_mode": {
    "name": "ipython",
    "version": 3
   },
   "file_extension": ".py",
   "mimetype": "text/x-python",
   "name": "python",
   "nbconvert_exporter": "python",
   "pygments_lexer": "ipython3",
   "version": "3.8.5"
  }
 },
 "nbformat": 4,
 "nbformat_minor": 4
}
